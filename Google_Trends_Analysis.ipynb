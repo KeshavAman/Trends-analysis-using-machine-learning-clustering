{
  "nbformat": 4,
  "nbformat_minor": 0,
  "metadata": {
    "colab": {
      "name": "Google Trends Analysis.ipynb",
      "provenance": [],
      "collapsed_sections": [],
      "authorship_tag": "ABX9TyPOFMVwwb+8fEUBQEJzoWNJ",
      "include_colab_link": true
    },
    "kernelspec": {
      "name": "python3",
      "display_name": "Python 3"
    },
    "language_info": {
      "name": "python"
    }
  },
  "cells": [
    {
      "cell_type": "markdown",
      "metadata": {
        "id": "view-in-github",
        "colab_type": "text"
      },
      "source": [
        "<a href=\"https://colab.research.google.com/github/KeshavAman/Trends-analysis-using-machine-learning-clustering/blob/main/Google_Trends_Analysis.ipynb\" target=\"_parent\"><img src=\"https://colab.research.google.com/assets/colab-badge.svg\" alt=\"Open In Colab\"/></a>"
      ]
    },
    {
      "cell_type": "markdown",
      "metadata": {
        "id": "KpqF48-eMYDP"
      },
      "source": [
        "**Installing the Libraries**"
      ]
    },
    {
      "cell_type": "code",
      "metadata": {
        "id": "tgy7lsUp6F0O"
      },
      "source": [
        "import pandas as pd\n",
        "import numpy as np\n",
        "import matplotlib.pyplot as plt\n",
        "import seaborn as sns\n",
        "from pandas import plotting"
      ],
      "execution_count": 36,
      "outputs": []
    },
    {
      "cell_type": "markdown",
      "metadata": {
        "id": "xL7mrRQ-MiY-"
      },
      "source": [
        "**Reading the Dataset**"
      ]
    },
    {
      "cell_type": "code",
      "metadata": {
        "colab": {
          "base_uri": "https://localhost:8080/",
          "height": 266
        },
        "id": "QtlKkdyg6__P",
        "outputId": "016932ea-f15d-4aa0-b5de-16cb44aace13"
      },
      "source": [
        "dataset = pd.read_csv('https://raw.githubusercontent.com/KeshavAman/file/main/trends.csv')\n",
        "dataset.head(7)"
      ],
      "execution_count": 37,
      "outputs": [
        {
          "output_type": "execute_result",
          "data": {
            "text/html": [
              "<div>\n",
              "<style scoped>\n",
              "    .dataframe tbody tr th:only-of-type {\n",
              "        vertical-align: middle;\n",
              "    }\n",
              "\n",
              "    .dataframe tbody tr th {\n",
              "        vertical-align: top;\n",
              "    }\n",
              "\n",
              "    .dataframe thead th {\n",
              "        text-align: right;\n",
              "    }\n",
              "</style>\n",
              "<table border=\"1\" class=\"dataframe\">\n",
              "  <thead>\n",
              "    <tr style=\"text-align: right;\">\n",
              "      <th></th>\n",
              "      <th>location</th>\n",
              "      <th>year</th>\n",
              "      <th>category</th>\n",
              "      <th>rank</th>\n",
              "      <th>query</th>\n",
              "    </tr>\n",
              "  </thead>\n",
              "  <tbody>\n",
              "    <tr>\n",
              "      <th>0</th>\n",
              "      <td>Global</td>\n",
              "      <td>2001</td>\n",
              "      <td>Consumer Brands</td>\n",
              "      <td>1</td>\n",
              "      <td>Nokia</td>\n",
              "    </tr>\n",
              "    <tr>\n",
              "      <th>1</th>\n",
              "      <td>Global</td>\n",
              "      <td>2001</td>\n",
              "      <td>Consumer Brands</td>\n",
              "      <td>2</td>\n",
              "      <td>Sony</td>\n",
              "    </tr>\n",
              "    <tr>\n",
              "      <th>2</th>\n",
              "      <td>Global</td>\n",
              "      <td>2001</td>\n",
              "      <td>Consumer Brands</td>\n",
              "      <td>3</td>\n",
              "      <td>BMW</td>\n",
              "    </tr>\n",
              "    <tr>\n",
              "      <th>3</th>\n",
              "      <td>Global</td>\n",
              "      <td>2001</td>\n",
              "      <td>Consumer Brands</td>\n",
              "      <td>4</td>\n",
              "      <td>Palm</td>\n",
              "    </tr>\n",
              "    <tr>\n",
              "      <th>4</th>\n",
              "      <td>Global</td>\n",
              "      <td>2001</td>\n",
              "      <td>Consumer Brands</td>\n",
              "      <td>5</td>\n",
              "      <td>Adobe</td>\n",
              "    </tr>\n",
              "    <tr>\n",
              "      <th>5</th>\n",
              "      <td>Global</td>\n",
              "      <td>2001</td>\n",
              "      <td>Men</td>\n",
              "      <td>1</td>\n",
              "      <td>Nostradamus</td>\n",
              "    </tr>\n",
              "    <tr>\n",
              "      <th>6</th>\n",
              "      <td>Global</td>\n",
              "      <td>2001</td>\n",
              "      <td>Men</td>\n",
              "      <td>2</td>\n",
              "      <td>Osama bin Laden</td>\n",
              "    </tr>\n",
              "  </tbody>\n",
              "</table>\n",
              "</div>"
            ],
            "text/plain": [
              "  location  year         category  rank            query\n",
              "0   Global  2001  Consumer Brands     1            Nokia\n",
              "1   Global  2001  Consumer Brands     2             Sony\n",
              "2   Global  2001  Consumer Brands     3              BMW\n",
              "3   Global  2001  Consumer Brands     4             Palm\n",
              "4   Global  2001  Consumer Brands     5            Adobe\n",
              "5   Global  2001              Men     1      Nostradamus\n",
              "6   Global  2001              Men     2  Osama bin Laden"
            ]
          },
          "metadata": {
            "tags": []
          },
          "execution_count": 37
        }
      ]
    },
    {
      "cell_type": "code",
      "metadata": {
        "colab": {
          "base_uri": "https://localhost:8080/",
          "height": 111
        },
        "id": "CqDO0Du77Hzb",
        "outputId": "d293e1bd-81fd-4631-9ef1-eb23367cd353"
      },
      "source": [
        "dataset.describe().T"
      ],
      "execution_count": 38,
      "outputs": [
        {
          "output_type": "execute_result",
          "data": {
            "text/html": [
              "<div>\n",
              "<style scoped>\n",
              "    .dataframe tbody tr th:only-of-type {\n",
              "        vertical-align: middle;\n",
              "    }\n",
              "\n",
              "    .dataframe tbody tr th {\n",
              "        vertical-align: top;\n",
              "    }\n",
              "\n",
              "    .dataframe thead th {\n",
              "        text-align: right;\n",
              "    }\n",
              "</style>\n",
              "<table border=\"1\" class=\"dataframe\">\n",
              "  <thead>\n",
              "    <tr style=\"text-align: right;\">\n",
              "      <th></th>\n",
              "      <th>count</th>\n",
              "      <th>mean</th>\n",
              "      <th>std</th>\n",
              "      <th>min</th>\n",
              "      <th>25%</th>\n",
              "      <th>50%</th>\n",
              "      <th>75%</th>\n",
              "      <th>max</th>\n",
              "    </tr>\n",
              "  </thead>\n",
              "  <tbody>\n",
              "    <tr>\n",
              "      <th>year</th>\n",
              "      <td>26955.0</td>\n",
              "      <td>2015.243369</td>\n",
              "      <td>3.564683</td>\n",
              "      <td>2001.0</td>\n",
              "      <td>2013.0</td>\n",
              "      <td>2016.0</td>\n",
              "      <td>2018.0</td>\n",
              "      <td>2020.0</td>\n",
              "    </tr>\n",
              "    <tr>\n",
              "      <th>rank</th>\n",
              "      <td>26955.0</td>\n",
              "      <td>3.000000</td>\n",
              "      <td>1.414240</td>\n",
              "      <td>1.0</td>\n",
              "      <td>2.0</td>\n",
              "      <td>3.0</td>\n",
              "      <td>4.0</td>\n",
              "      <td>5.0</td>\n",
              "    </tr>\n",
              "  </tbody>\n",
              "</table>\n",
              "</div>"
            ],
            "text/plain": [
              "        count         mean       std     min     25%     50%     75%     max\n",
              "year  26955.0  2015.243369  3.564683  2001.0  2013.0  2016.0  2018.0  2020.0\n",
              "rank  26955.0     3.000000  1.414240     1.0     2.0     3.0     4.0     5.0"
            ]
          },
          "metadata": {
            "tags": []
          },
          "execution_count": 38
        }
      ]
    },
    {
      "cell_type": "code",
      "metadata": {
        "colab": {
          "base_uri": "https://localhost:8080/"
        },
        "id": "XOdF-uB37PSi",
        "outputId": "96749e2a-b7ba-47cc-b54e-7d70d6ccff63"
      },
      "source": [
        "dataset.info()"
      ],
      "execution_count": 39,
      "outputs": [
        {
          "output_type": "stream",
          "text": [
            "<class 'pandas.core.frame.DataFrame'>\n",
            "RangeIndex: 26955 entries, 0 to 26954\n",
            "Data columns (total 5 columns):\n",
            " #   Column    Non-Null Count  Dtype \n",
            "---  ------    --------------  ----- \n",
            " 0   location  26955 non-null  object\n",
            " 1   year      26955 non-null  int64 \n",
            " 2   category  26955 non-null  object\n",
            " 3   rank      26955 non-null  int64 \n",
            " 4   query     26955 non-null  object\n",
            "dtypes: int64(2), object(3)\n",
            "memory usage: 1.0+ MB\n"
          ],
          "name": "stdout"
        }
      ]
    },
    {
      "cell_type": "code",
      "metadata": {
        "colab": {
          "base_uri": "https://localhost:8080/"
        },
        "id": "Pea5bdkI7TU9",
        "outputId": "2d9eab5a-905b-4af9-897c-edeac292e157"
      },
      "source": [
        "print('Rows and columns of dataset are ',dataset.shape)"
      ],
      "execution_count": 40,
      "outputs": [
        {
          "output_type": "stream",
          "text": [
            "Rows and columns of dataset are  (26955, 5)\n"
          ],
          "name": "stdout"
        }
      ]
    },
    {
      "cell_type": "markdown",
      "metadata": {
        "id": "X_4rTOHVMp3c"
      },
      "source": [
        "**Checking if there is any NULL data**"
      ]
    },
    {
      "cell_type": "code",
      "metadata": {
        "colab": {
          "base_uri": "https://localhost:8080/"
        },
        "id": "HdeTdWMU7XS-",
        "outputId": "c270e8f2-3ac6-4c30-d781-8418ce222c01"
      },
      "source": [
        "dataset.isnull().any().any()"
      ],
      "execution_count": 41,
      "outputs": [
        {
          "output_type": "execute_result",
          "data": {
            "text/plain": [
              "False"
            ]
          },
          "metadata": {
            "tags": []
          },
          "execution_count": 41
        }
      ]
    },
    {
      "cell_type": "markdown",
      "metadata": {
        "id": "Vhnq5yySMv8K"
      },
      "source": [
        "**Pairplot of Dataset**"
      ]
    },
    {
      "cell_type": "code",
      "metadata": {
        "colab": {
          "base_uri": "https://localhost:8080/",
          "height": 391
        },
        "id": "mwUXVq_D73C9",
        "outputId": "260f6e87-d708-4e29-ff20-932757c02634"
      },
      "source": [
        "plt.figure(figsize=(12,8))\n",
        "sns.pairplot(dataset)\n",
        "plt.title('Pairplot of Dataset', fontsize = 15)\n",
        "plt.show()"
      ],
      "execution_count": 42,
      "outputs": [
        {
          "output_type": "display_data",
          "data": {
            "text/plain": [
              "<Figure size 864x576 with 0 Axes>"
            ]
          },
          "metadata": {
            "tags": []
          }
        },
        {
          "output_type": "display_data",
          "data": {
            "image/png": "[encoded data removed]",
            "text/plain": [
              "<Figure size 360x360 with 6 Axes>"
            ]
          },
          "metadata": {
            "tags": [],
            "needs_background": "light"
          }
        }
      ]
    },
    {
      "cell_type": "markdown",
      "metadata": {
        "id": "kzcc0f-MM5bg"
      },
      "source": [
        "**Heatmap of Dataset**"
      ]
    },
    {
      "cell_type": "code",
      "metadata": {
        "colab": {
          "base_uri": "https://localhost:8080/",
          "height": 283
        },
        "id": "KzJBlVUU8KPf",
        "outputId": "bed8db7a-9e36-41b7-8556-039964f2de9e"
      },
      "source": [
        "sns.heatmap(dataset.corr(), annot = True)\n",
        "plt.title('Heatmap of Dataset', fontsize = 15)\n",
        "plt.show()"
      ],
      "execution_count": 43,
      "outputs": [
        {
          "output_type": "display_data",
          "data": {
            "image/png": "[encoded data removed]",
            "text/plain": [
              "<Figure size 432x288 with 2 Axes>"
            ]
          },
          "metadata": {
            "tags": [],
            "needs_background": "light"
          }
        }
      ]
    },
    {
      "cell_type": "markdown",
      "metadata": {
        "id": "bSkZZAnPNDoU"
      },
      "source": [
        "**Preprocessing of Dataset**"
      ]
    },
    {
      "cell_type": "code",
      "metadata": {
        "colab": {
          "base_uri": "https://localhost:8080/",
          "height": 204
        },
        "id": "QUNbx_rk8g-W",
        "outputId": "a42e2909-1700-45a7-916b-03b9ea37e7d4"
      },
      "source": [
        "from sklearn.preprocessing import LabelEncoder\n",
        "\n",
        "dataset['location'] = LabelEncoder().fit_transform(dataset['location'])\n",
        "dataset['category'] = LabelEncoder().fit_transform(dataset['category'])\n",
        "dataset['query'] = LabelEncoder().fit_transform(dataset['query'])\n",
        "dataset.head()"
      ],
      "execution_count": 48,
      "outputs": [
        {
          "output_type": "execute_result",
          "data": {
            "text/html": [
              "<div>\n",
              "<style scoped>\n",
              "    .dataframe tbody tr th:only-of-type {\n",
              "        vertical-align: middle;\n",
              "    }\n",
              "\n",
              "    .dataframe tbody tr th {\n",
              "        vertical-align: top;\n",
              "    }\n",
              "\n",
              "    .dataframe thead th {\n",
              "        text-align: right;\n",
              "    }\n",
              "</style>\n",
              "<table border=\"1\" class=\"dataframe\">\n",
              "  <thead>\n",
              "    <tr style=\"text-align: right;\">\n",
              "      <th></th>\n",
              "      <th>location</th>\n",
              "      <th>category</th>\n",
              "      <th>rank</th>\n",
              "      <th>query</th>\n",
              "    </tr>\n",
              "  </thead>\n",
              "  <tbody>\n",
              "    <tr>\n",
              "      <th>0</th>\n",
              "      <td>25</td>\n",
              "      <td>250</td>\n",
              "      <td>1</td>\n",
              "      <td>9114</td>\n",
              "    </tr>\n",
              "    <tr>\n",
              "      <th>1</th>\n",
              "      <td>25</td>\n",
              "      <td>250</td>\n",
              "      <td>2</td>\n",
              "      <td>11573</td>\n",
              "    </tr>\n",
              "    <tr>\n",
              "      <th>2</th>\n",
              "      <td>25</td>\n",
              "      <td>250</td>\n",
              "      <td>3</td>\n",
              "      <td>985</td>\n",
              "    </tr>\n",
              "    <tr>\n",
              "      <th>3</th>\n",
              "      <td>25</td>\n",
              "      <td>250</td>\n",
              "      <td>4</td>\n",
              "      <td>9560</td>\n",
              "    </tr>\n",
              "    <tr>\n",
              "      <th>4</th>\n",
              "      <td>25</td>\n",
              "      <td>250</td>\n",
              "      <td>5</td>\n",
              "      <td>303</td>\n",
              "    </tr>\n",
              "  </tbody>\n",
              "</table>\n",
              "</div>"
            ],
            "text/plain": [
              "   location  category  rank  query\n",
              "0        25       250     1   9114\n",
              "1        25       250     2  11573\n",
              "2        25       250     3    985\n",
              "3        25       250     4   9560\n",
              "4        25       250     5    303"
            ]
          },
          "metadata": {
            "tags": []
          },
          "execution_count": 48
        }
      ]
    },
    {
      "cell_type": "markdown",
      "metadata": {
        "id": "O5HgWz9eNRyw"
      },
      "source": [
        "**Splitting of Dataset**"
      ]
    },
    {
      "cell_type": "code",
      "metadata": {
        "colab": {
          "base_uri": "https://localhost:8080/"
        },
        "id": "zJu2V3miDzTE",
        "outputId": "91802b48-0f6f-4c05-ad84-10219e9bfd78"
      },
      "source": [
        "x = dataset.iloc[:,[1,-1]].values\n",
        "x = StandardScaler().fit_transform(x)\n",
        "x.shape"
      ],
      "execution_count": 67,
      "outputs": [
        {
          "output_type": "execute_result",
          "data": {
            "text/plain": [
              "(26955, 2)"
            ]
          },
          "metadata": {
            "tags": []
          },
          "execution_count": 67
        }
      ]
    },
    {
      "cell_type": "markdown",
      "metadata": {
        "id": "z29j3zVfNYWI"
      },
      "source": [
        "**Using K-Means Clustering**\n",
        "\n",
        "***The Elbow Method***"
      ]
    },
    {
      "cell_type": "code",
      "metadata": {
        "colab": {
          "base_uri": "https://localhost:8080/",
          "height": 515
        },
        "id": "s-ZDeB8w_GTI",
        "outputId": "e4ebf40f-2956-4010-d9bb-bd7ff8c75523"
      },
      "source": [
        "from sklearn.cluster import KMeans\n",
        "\n",
        "wcss = []\n",
        "for i in range (1,5):\n",
        "  km = KMeans(n_clusters = i, init = 'k-means++', max_iter = 300, n_init = 10, random_state = 0)\n",
        "  km.fit(x)\n",
        "  wcss.append(km.inertia_)\n",
        "\n",
        "plt.figure(figsize = (12,8))\n",
        "plt.plot(range(1,5), wcss)\n",
        "plt.title('The Elbow Method', fontsize = 15)\n",
        "plt.xlabel('No of clusters')\n",
        "plt.ylabel('wcss')\n",
        "plt.grid()\n",
        "plt.show()"
      ],
      "execution_count": 68,
      "outputs": [
        {
          "output_type": "display_data",
          "data": {
            "image/png": "[encoded data removed]",
            "text/plain": [
              "<Figure size 864x576 with 1 Axes>"
            ]
          },
          "metadata": {
            "tags": [],
            "needs_background": "light"
          }
        }
      ]
    },
    {
      "cell_type": "code",
      "metadata": {
        "colab": {
          "base_uri": "https://localhost:8080/",
          "height": 300
        },
        "id": "4vijjyJi_8vf",
        "outputId": "50d814ca-8be6-42dc-bb56-25e8a6e819e7"
      },
      "source": [
        "km = KMeans(n_clusters = 3, init = 'k-means++', max_iter = 300, n_init = 10, random_state = 0)\n",
        "y_means = km.fit_predict(x)\n",
        "\n",
        "plt.scatter(x[y_means == 0,0], x[y_means == 0,1], s = 100, c = 'pink', label = 'Label 1')\n",
        "plt.scatter(x[y_means == 1,0], x[y_means == 1,1], s = 100, c = 'orange', label = 'Label 2')\n",
        "plt.scatter(x[y_means == 2,0], x[y_means == 2,1], s = 100, c = 'green', label = 'Label 3')\n",
        "plt.scatter(km.cluster_centers_[:,0], km.cluster_centers_[:,1], s = 50, c = 'black', label = 'Centeroid')\n",
        "plt.title('K-Means Clustering', fontsize = 20)\n",
        "plt.xlabel('location')\n",
        "plt.ylabel('query')\n",
        "plt.legend()\n",
        "plt.show()"
      ],
      "execution_count": 74,
      "outputs": [
        {
          "output_type": "display_data",
          "data": {
            "image/png": "[encoded data removed]",
            "text/plain": [
              "<Figure size 432x288 with 1 Axes>"
            ]
          },
          "metadata": {
            "tags": [],
            "needs_background": "light"
          }
        }
      ]
    },
    {
      "cell_type": "markdown",
      "metadata": {
        "id": "Z5-FakX9NlhM"
      },
      "source": [
        "**Using Hierarchical Clustering**\n",
        "\n",
        "***Using Dendrogram***"
      ]
    },
    {
      "cell_type": "code",
      "metadata": {
        "colab": {
          "base_uri": "https://localhost:8080/",
          "height": 306
        },
        "id": "jf7W9OBbFH-F",
        "outputId": "a5439610-ae0f-4432-e599-3669bf336f37"
      },
      "source": [
        "from scipy.cluster import hierarchy as sch\n",
        "\n",
        "dendrogram = sch.dendrogram(sch.linkage(x, method = 'ward'))\n",
        "plt.title('Dendrogram', fontsize = 20)\n",
        "plt.xlabel('location')\n",
        "plt.ylabel('query')\n",
        "plt.show()"
      ],
      "execution_count": 71,
      "outputs": [
        {
          "output_type": "display_data",
          "data": {
            "image/png": "[encoded data removed]",
            "text/plain": [
              "<Figure size 432x288 with 1 Axes>"
            ]
          },
          "metadata": {
            "tags": [],
            "needs_background": "light"
          }
        }
      ]
    },
    {
      "cell_type": "code",
      "metadata": {
        "colab": {
          "base_uri": "https://localhost:8080/",
          "height": 300
        },
        "id": "gHkMtRHWGJaf",
        "outputId": "6431d3d1-d60c-4fe8-9e67-2fdeb06269a2"
      },
      "source": [
        "from sklearn.cluster import AgglomerativeClustering\n",
        "\n",
        "hc = AgglomerativeClustering(n_clusters = 3, affinity = 'euclidean', linkage = 'ward')\n",
        "y_hc = hc.fit_predict(x)\n",
        "plt.scatter(x[y_hc == 0,0], x[y_hc == 0,1], s = 100, c = 'pink', label = 'label1')\n",
        "plt.scatter(x[y_hc == 1,0], x[y_hc == 1,1], s = 100, c = 'orange', label = 'label2')\n",
        "plt.scatter(x[y_hc == 2,0], x[y_hc == 2,1], s = 100, c = 'yellow', label = 'label3')\n",
        "plt.scatter(km.cluster_centers_[:,0], km.cluster_centers_[:,1], s = 50, c = 'black', label = 'centeroid')\n",
        "plt.title('Hierachical Clustering', fontsize = 20)\n",
        "plt.xlabel('location')\n",
        "plt.ylabel('query')\n",
        "plt.legend()\n",
        "plt.show()"
      ],
      "execution_count": 73,
      "outputs": [
        {
          "output_type": "display_data",
          "data": {
            "image/png": "[encoded data removed]",
            "text/plain": [
              "<Figure size 432x288 with 1 Axes>"
            ]
          },
          "metadata": {
            "tags": [],
            "needs_background": "light"
          }
        }
      ]
    }
  ]
}